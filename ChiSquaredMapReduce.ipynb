{
 "cells": [
  {
   "cell_type": "code",
   "execution_count": 149,
   "metadata": {},
   "outputs": [],
   "source": [
    "DATA_PATH = './data/reviews_devset.json'\n",
    "PYTHON = 'python3'"
   ]
  },
  {
   "cell_type": "code",
   "execution_count": 19,
   "metadata": {},
   "outputs": [
    {
     "name": "stdout",
     "output_type": "stream",
     "text": [
      "Requirement already satisfied: mr3px in /Users/maxkleinegger/anaconda3/lib/python3.10/site-packages (0.5.1)\n",
      "Requirement already satisfied: mrjob in /Users/maxkleinegger/anaconda3/lib/python3.10/site-packages (0.7.4)\n",
      "Requirement already satisfied: PyYAML>=3.10 in /Users/maxkleinegger/anaconda3/lib/python3.10/site-packages (from mrjob) (6.0)\n"
     ]
    }
   ],
   "source": [
    "! pip3 install mr3px mrjob"
   ]
  },
  {
   "cell_type": "code",
   "execution_count": 268,
   "metadata": {},
   "outputs": [
    {
     "name": "stdout",
     "output_type": "stream",
     "text": [
      "Overwriting chiSquaredReduceOptimized.py\n"
     ]
    }
   ],
   "source": [
    "%%file chiSquaredReduceOptimized.py\n",
    "from pathlib import Path\n",
    "from mrjob.job import MRJob\n",
    "from mrjob.step import MRStep\n",
    "import re\n",
    "import json\n",
    "\n",
    "class ChiSquaredProcessor(MRJob):\n",
    "\n",
    "    def configure_args(self):\n",
    "        super(ChiSquaredProcessor, self).configure_args()\n",
    "\n",
    "        self.FILES = [str(Path(__file__).parent / 'data' / 'stopwords.txt')]\n",
    "        self.add_file_arg('--stopwords', default='stopwords.txt')\n",
    "        self.add_passthru_arg('-k', type=int, default=75)\n",
    "\n",
    "\n",
    "    def init_stopwords(self):\n",
    "        with open(self.options.stopwords, 'r') as file:\n",
    "            self.stopwords = set(file.read().splitlines())\n",
    "\n",
    "    def mapper_preprocessing(self, _, line):\n",
    "        \"\"\" \n",
    "        This mapper returns all terms per category for each document occurence\n",
    "        Returns a key value pair of: (category, word), 1\n",
    "        \"\"\"\n",
    "\n",
    "        data = json.loads(line)\n",
    "        category = data.get('category', '')\n",
    "        reviewText = data.get('reviewText', '')\n",
    "        word_list = re.split('[^a-zA-Z<>^|]+', reviewText.lower())\n",
    "\n",
    "        word_set = set([word for word in word_list if word not in self.stopwords and word.strip() != '' and len(word) > 1])\n",
    "\n",
    "        yield (category, None), 1\n",
    "        for term in word_set:\n",
    "            yield (category, term), 1\n",
    "\n",
    "    def reducer_count_terms(self, category_term, counts):\n",
    "        \"\"\" \n",
    "        This reducer sums the occurences of each term per category\n",
    "        Returns a key value pair of: (category, term), number\n",
    "        \"\"\"\n",
    "        category, term = category_term\n",
    "        sum_counts = sum(counts)\n",
    "        yield term, (category, sum_counts)\n",
    "\n",
    "    def reducer_count_terms_over_categories(self, term, category_count):\n",
    "        \"\"\"\n",
    "        This reducer returns the number of occurences of a term in all categories and the number of occurences of all terms\n",
    "        Returns a key value pair of: term, [(category, count_term, number_of_occurences)]\n",
    "        \"\"\"\n",
    "\n",
    "        category_count = list(category_count)\n",
    "        number_of_occurences = sum([count for _, count in category_count])\n",
    "        for category, count_term in category_count:\n",
    "            yield category, (term, count_term, number_of_occurences)\n",
    "\n",
    "    def reducer_calc_chi_squared(self, category, list_category_count): \n",
    "        \"\"\"\n",
    "        This reducer calculates the chi squared value for each term per category.\n",
    "        Returns a key value pair of: (category, term), chi_squared\n",
    "        \"\"\"\n",
    "        if category is None:\n",
    "            yield None, list(set(list_category_count))\n",
    "            return\n",
    "        map_category_count = { term: (count_term, number_of_occurences) for term, count_term, number_of_occurences in list_category_count}\n",
    "        category_count, N = map_category_count.pop(None)\n",
    "\n",
    "        results = []\n",
    "        for term, count in map_category_count.items():\n",
    "            count_term, number_of_occurences = count\n",
    "            A = count_term\n",
    "            B = number_of_occurences - count_term\n",
    "            C = category_count - count_term\n",
    "            D = N - category_count - B\n",
    "            results.append((term, N * (A*D - B*C)**2 / ((A+B)*(A+C)*(B+D)*(C+D))))\n",
    "            \n",
    "        yield category, sorted(results, key=lambda x: x[1], reverse=True)[:75]\n",
    "\n",
    "    def reducer_to_output(self, category, term_chi_squared):\n",
    "        \"\"\"\n",
    "        This reducer sorts the chi squared values and returns the 75 highest values for each category. If no category is given, all terms are returned.\n",
    "        Returns a key value pair of: category, [term=chi_squared]\n",
    "        \"\"\"\n",
    "        if category is None:\n",
    "            yield category, sorted(list(set(term_chi_squared)))\n",
    "        else: yield category, sorted(list(term_chi_squared), key=lambda x: x[1], reverse=True)[:self.options.k]\n",
    "\n",
    "    def steps(self):\n",
    "        return [\n",
    "            MRStep(\n",
    "                mapper_init = self.init_stopwords,\n",
    "                mapper   = self.mapper_preprocessing,\n",
    "                reducer  = self.reducer_count_terms\n",
    "            ),\n",
    "            MRStep(reducer  = self.reducer_2),\n",
    "            MRStep(reducer  = self.reducer_3)\n",
    "        ]\n",
    "   \n",
    "if __name__ == '__main__':\n",
    "    ChiSquaredProcessor.run()"
   ]
  },
  {
   "cell_type": "code",
   "execution_count": 267,
   "metadata": {},
   "outputs": [
    {
     "name": "stdout",
     "output_type": "stream",
     "text": [
      "Overwriting runner.py\n"
     ]
    }
   ],
   "source": [
    "%%file runner.py\n",
    "from chiSquaredReduceOptimized import ChiSquaredProcessor\n",
    "\n",
    "if __name__ == '__main__':\n",
    "    job = ChiSquaredProcessor()\n",
    "\n",
    "    with job.make_runner() as runner:\n",
    "        runner.run()\n",
    "\n",
    "        results = {}\n",
    "        for key, values in job.parse_output(runner.cat_output()):\n",
    "            if key is None:\n",
    "                results[key] = ' '.join(values)\n",
    "            else:\n",
    "                results[key] = ' '.join(f\"{x}={y}\" for x, y in values)\n",
    "\n",
    "        for key, value in results.items():\n",
    "            if key is not None:\n",
    "                print(key, value, \"\\n\", end='')\n",
    "\n",
    "        print(results[None])"
   ]
  },
  {
   "cell_type": "code",
   "execution_count": 265,
   "metadata": {},
   "outputs": [
    {
     "name": "stdout",
     "output_type": "stream",
     "text": [
      "No configs specified for inline runner\n"
     ]
    }
   ],
   "source": [
    "! $PYTHON ./runner.py $DATA_PATH > ./result/output.txt"
   ]
  },
  {
   "cell_type": "markdown",
   "metadata": {},
   "source": [
    "## Test dataset"
   ]
  },
  {
   "cell_type": "code",
   "execution_count": null,
   "metadata": {},
   "outputs": [],
   "source": [
    "! $PYTHON runner.py --hadoop-streaming-jar /usr/lib/hadoop/tools/lib/hadoop-streaming-3.3.5.jar r hadoop hdfs:///user/dic24_shared/amazon-reviews/full/reviews_devset.json > output.txt"
   ]
  },
  {
   "cell_type": "markdown",
   "metadata": {},
   "source": [
    "## Full dataset"
   ]
  },
  {
   "cell_type": "markdown",
   "metadata": {},
   "source": [
    "! $PYTHON runner.py --hadoop-streaming-jar /usr/lib/hadoop/tools/lib/hadoop-streaming-3.3.5.jar r hadoop hdfs:///user/dic24_shared/amazon-reviews/full/reviewscombined.json > output.txt"
   ]
  }
 ],
 "metadata": {
  "kernelspec": {
   "display_name": "Python 3",
   "language": "python",
   "name": "python3"
  },
  "language_info": {
   "codemirror_mode": {
    "name": "ipython",
    "version": 3
   },
   "file_extension": ".py",
   "mimetype": "text/x-python",
   "name": "python",
   "nbconvert_exporter": "python",
   "pygments_lexer": "ipython3",
   "version": "3.10.9"
  }
 },
 "nbformat": 4,
 "nbformat_minor": 2
}
