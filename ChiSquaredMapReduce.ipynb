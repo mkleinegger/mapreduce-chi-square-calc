{
 "cells": [
  {
   "cell_type": "code",
   "execution_count": 1,
   "metadata": {},
   "outputs": [],
   "source": [
    "DATA_PATH = 'reviews_devset.json'\n",
    "PYTHON = 'python3'"
   ]
  },
  {
   "cell_type": "code",
   "execution_count": 2,
   "metadata": {},
   "outputs": [
    {
     "name": "stdout",
     "output_type": "stream",
     "text": [
      "Requirement already satisfied: mr3px in /Users/maxkleinegger/anaconda3/lib/python3.10/site-packages (0.5.1)\n",
      "Requirement already satisfied: mrjob in /Users/maxkleinegger/anaconda3/lib/python3.10/site-packages (0.7.4)\n",
      "Requirement already satisfied: PyYAML>=3.10 in /Users/maxkleinegger/anaconda3/lib/python3.10/site-packages (from mrjob) (6.0)\n"
     ]
    }
   ],
   "source": [
    "! pip3 install mr3px mrjob"
   ]
  },
  {
   "cell_type": "code",
   "execution_count": 4,
   "metadata": {},
   "outputs": [
    {
     "name": "stdout",
     "output_type": "stream",
     "text": [
      "Writing chiSquaredReduce.py\n"
     ]
    }
   ],
   "source": [
    "%%file chiSquaredReduce.py\n",
    "from mrjob.job import MRJob\n",
    "from mrjob.step import MRStep\n",
    "# from mr3px.csvprotocol import CsvProtocol\n",
    "import re\n",
    "\n",
    "WORD_RE = re.split('[^a-zA-Z<>^|]+', line)\n",
    "\n",
    "class ChiSquaredProcessor(MRJob):\n",
    "\n",
    "    # The mapper first extract and parses the tuple from Checkouts\n",
    "    # Then it passes this to reducer, using as key the pair of author and title  \n",
    "    def mapper_count_title(self, _, line):\n",
    "        # Tokenizes each line by using whitespaces, tabs, digits, and the specified characters as delimiters\n",
    "        word_list = re.split('[^a-zA-Z<>^|]+', line)\n",
    "        \n",
    "        # For loop through the terms in pre-processed list\n",
    "        for word in word_list:\n",
    "            yield (word.lower(), 1)\n",
    "\n",
    "    # The reducer now simply counts how often a title is checked out\n",
    "    def reducer_title_reducer(self,authorTitle,checkouts):        \n",
    "        count = 0\n",
    "        author, title = authorTitle\n",
    "\n",
    "        for rec in checkouts:\n",
    "            count = count + int(rec)\n",
    "\n",
    "        # CsvProtocol needs None key for output\n",
    "        yield None, (author,title,count) \n",
    "\n",
    "    # The mapper of the second round sets as key the author\n",
    "    def mapper_top_title(self, _, line):\n",
    "        result = line # input from last round already a list of strings\n",
    "\n",
    "        author = result[0]\n",
    "        title = result[1]\n",
    "        nCheckouts = result[2]\n",
    "\n",
    "        yield author, (title,nCheckouts)\n",
    "\n",
    "    # The combiner functions same as reducer, except that it emits a pair. \n",
    "    # This is necessary so the output of the combiner matches the mapper\n",
    "    def combiner_top_title(self,author,titleCheckouts):\n",
    "        mostCheckedOutTitle = \"\"\n",
    "        mostCheckouts = 0\n",
    "\n",
    "        for (title,nCheckouts) in titleCheckouts:\n",
    "            if int(nCheckouts) > mostCheckouts:\n",
    "                mostCheckouts = int(nCheckouts)\n",
    "                mostCheckedOutTitle = title\n",
    "\n",
    "        if mostCheckouts > 0: \n",
    "            yield author, (mostCheckedOutTitle,mostCheckouts)\n",
    "\n",
    "     # The reducer now visits all titles for the author key and only emits \n",
    "     # a tuple with the title that was checked out the most for each author\n",
    "    def reducer_top_title(self,author,titleCheckouts):\n",
    "        mostCheckedOutTitle = \"\"\n",
    "        mostCheckouts = 0\n",
    "\n",
    "        for (title,nCheckouts) in titleCheckouts:\n",
    "            if int(nCheckouts) > mostCheckouts:\n",
    "                mostCheckouts = int(nCheckouts)\n",
    "                mostCheckedOutTitle = title\n",
    "\n",
    "        if mostCheckouts > 0: \n",
    "            #CsvProtocol needs None key for output\n",
    "            yield None, (author, mostCheckedOutTitle) \n",
    "\n",
    "    def steps(self):\n",
    "        return [\n",
    "            MRStep(mapper   = self.mapper_count_title,\n",
    "                   reducer  = self.reducer_title_reducer),\n",
    "            MRStep(mapper   = self.mapper_top_title,\n",
    "                   combiner = self.combiner_top_title,\n",
    "                   reducer  = self.reducer_top_title)\n",
    "        ]\n",
    "\n",
    "if __name__ == '__main__':\n",
    "    myjob1 = ChiSquaredProcessor()\n",
    "    with myjob1.make_runner() as runner:\n",
    "        runner.run()\n",
    "        \n",
    "        for key, value in myjob1.parse_output(runner.cat_output()):           \n",
    "            print(key, value, \"\\n\", end='')"
   ]
  },
  {
   "cell_type": "code",
   "execution_count": 13,
   "metadata": {},
   "outputs": [
    {
     "name": "stdout",
     "output_type": "stream",
     "text": [
      "Overwriting chiSquaredReduce.py\n"
     ]
    }
   ],
   "source": [
    "%%file chiSquaredReduce.py\n",
    "from mrjob.job import MRJob\n",
    "from mrjob.step import MRStep\n",
    "# from mr3px.csvprotocol import CsvProtocol\n",
    "import re\n",
    "import json\n",
    "\n",
    "class ChiSquaredProcessor(MRJob):\n",
    "    def mapper(self, _, line):\n",
    " \n",
    "        data = json.loads(line)\n",
    "        \n",
    "        # Extract review text from JSON data\n",
    "        review_text = data.get('reviewText', '')\n",
    "\n",
    "        # Tokenize review text\n",
    "        word_list = re.split('[^a-zA-Z<>^|]+', review_text)\n",
    "              \n",
    "        #for loop through the terms in pre-processed list\n",
    "        for word in word_list:\n",
    "            yield (word, 1)\n",
    "                \n",
    "    def reducer_count(self, word, counts):\n",
    "        # sums up the values of all appearances of the term\n",
    "        yield  (word, sum(counts))\n",
    "    \n",
    "    def steps(self):\n",
    "        return [\n",
    "            MRStep(mapper  = self.mapper,\n",
    "                   reducer = self.reducer_count)\n",
    "        ]\n",
    "   \n",
    "if __name__ == '__main__':\n",
    "    myjob1 = ChiSquaredProcessor()\n",
    "    with myjob1.make_runner() as runner:\n",
    "        runner.run()\n",
    "        \n",
    "        for key, value in myjob1.parse_output(runner.cat_output()):           \n",
    "            print(key, value, \"\\n\", end='')\n"
   ]
  },
  {
   "cell_type": "markdown",
   "metadata": {},
   "source": [
    "Running a local MRjob "
   ]
  },
  {
   "cell_type": "code",
   "execution_count": 14,
   "metadata": {},
   "outputs": [
    {
     "name": "stdout",
     "output_type": "stream",
     "text": [
      "No configs specified for inline runner\n"
     ]
    }
   ],
   "source": [
    "! $PYTHON ./chiSquaredReduce.py $DATA_PATH > output.txt"
   ]
  },
  {
   "cell_type": "code",
   "execution_count": 24,
   "metadata": {},
   "outputs": [
    {
     "name": "stdout",
     "output_type": "stream",
     "text": [
      "No configs specified for hadoop runner\n",
      "  Unable to load native-hadoop library for your platform... using builtin-java classes where applicable\n",
      "  JobTracker metrics system already initialized!\n",
      "  Error launching job , bad input path : File does not exist: /tmp/hadoop/mapred/staging/maxkleinegger1200901391/.staging/job_local1200901391_0001/files/chiSquaredReduce-1.py#chiSquaredReduce-1.py\n",
      "Can't fetch history log; missing job ID\n",
      "No counters found\n",
      "Can't fetch history log; missing job ID\n",
      "Can't fetch task logs; missing application ID\n",
      "Traceback (most recent call last):\n",
      "  File \"/Users/maxkleinegger/Documents/TUWien/2024SS/DIC/tu-dic-ss24/./chiSquaredReduce.py\", line 37, in <module>\n",
      "    runner.run()\n",
      "  File \"/Users/maxkleinegger/anaconda3/lib/python3.10/site-packages/mrjob/runner.py\", line 503, in run\n",
      "    self._run()\n",
      "  File \"/Users/maxkleinegger/anaconda3/lib/python3.10/site-packages/mrjob/hadoop.py\", line 329, in _run\n",
      "    self._run_job_in_hadoop()\n",
      "  File \"/Users/maxkleinegger/anaconda3/lib/python3.10/site-packages/mrjob/hadoop.py\", line 405, in _run_job_in_hadoop\n",
      "    raise StepFailedException(\n",
      "mrjob.step.StepFailedException: Step 1 of 1 failed: Command '['/opt/homebrew/bin/hadoop', 'jar', '/opt/homebrew/opt/hadoop/libexec/share/hadoop/tools/lib/hadoop-streaming-3.4.0.jar', '-files', 'hdfs:///user/maxkleinegger/tmp/mrjob/chiSquaredReduce.maxkleinegger.20240330.120522.211196/files/wd/chiSquaredReduce-1.py#chiSquaredReduce-1.py,hdfs:///user/maxkleinegger/tmp/mrjob/chiSquaredReduce.maxkleinegger.20240330.120522.211196/files/wd/chiSquaredReduce.py#chiSquaredReduce.py,hdfs:///user/maxkleinegger/tmp/mrjob/chiSquaredReduce.maxkleinegger.20240330.120522.211196/files/wd/mrjob.zip#mrjob.zip,hdfs:///user/maxkleinegger/tmp/mrjob/chiSquaredReduce.maxkleinegger.20240330.120522.211196/files/wd/setup-wrapper.sh#setup-wrapper.sh', '-input', 'hdfs:///user/maxkleinegger/reviews/reviews_devset.json', '-output', 'hdfs:///user/maxkleinegger/tmp/mrjob/chiSquaredReduce.maxkleinegger.20240330.120522.211196/output', '-mapper', '/bin/sh -ex setup-wrapper.sh python3 chiSquaredReduce-1.py --step-num=0 --mapper', '-reducer', '/bin/sh -ex setup-wrapper.sh python3 chiSquaredReduce-1.py --step-num=0 --reducer']' returned non-zero exit status 512.\n"
     ]
    }
   ],
   "source": [
    "! $PYTHON ./chiSquaredReduce.py --hadoop-streaming-jar /opt/homebrew/opt/hadoop/libexec/share/hadoop/tools/lib/hadoop-streaming-3.4.0.jar \\\n",
    "-r hadoop hdfs:///user/maxkleinegger/reviews/reviews_devset.json --file ./chiSquaredReduce.py > output.txt"
   ]
  },
  {
   "cell_type": "code",
   "execution_count": null,
   "metadata": {},
   "outputs": [],
   "source": []
  }
 ],
 "metadata": {
  "kernelspec": {
   "display_name": "Python 3",
   "language": "python",
   "name": "python3"
  },
  "language_info": {
   "codemirror_mode": {
    "name": "ipython",
    "version": 3
   },
   "file_extension": ".py",
   "mimetype": "text/x-python",
   "name": "python",
   "nbconvert_exporter": "python",
   "pygments_lexer": "ipython3",
   "version": "3.10.9"
  }
 },
 "nbformat": 4,
 "nbformat_minor": 2
}
