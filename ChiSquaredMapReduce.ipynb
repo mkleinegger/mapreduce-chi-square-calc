{
 "cells": [
  {
   "cell_type": "code",
   "execution_count": 18,
   "metadata": {},
   "outputs": [],
   "source": [
    "DATA_PATH = './data/reviews_devset.json'\n",
    "PYTHON = 'python3'"
   ]
  },
  {
   "cell_type": "code",
   "execution_count": 19,
   "metadata": {},
   "outputs": [
    {
     "name": "stdout",
     "output_type": "stream",
     "text": [
      "Requirement already satisfied: mr3px in /Users/maxkleinegger/anaconda3/lib/python3.10/site-packages (0.5.1)\n",
      "Requirement already satisfied: mrjob in /Users/maxkleinegger/anaconda3/lib/python3.10/site-packages (0.7.4)\n",
      "Requirement already satisfied: PyYAML>=3.10 in /Users/maxkleinegger/anaconda3/lib/python3.10/site-packages (from mrjob) (6.0)\n"
     ]
    }
   ],
   "source": [
    "! pip3 install mr3px mrjob"
   ]
  },
  {
   "cell_type": "code",
   "execution_count": 66,
   "metadata": {},
   "outputs": [
    {
     "name": "stdout",
     "output_type": "stream",
     "text": [
      "Overwriting chiSquaredReduce.py\n"
     ]
    }
   ],
   "source": [
    "%%file chiSquaredReduce.py\n",
    "from mrjob.job import MRJob\n",
    "from mrjob.step import MRStep\n",
    "import re\n",
    "import json\n",
    "\n",
    "stopwords = set()\n",
    "\n",
    "class ChiSquaredProcessor(MRJob):\n",
    "\n",
    "    doc_count = 0\n",
    "\n",
    "    def mapper_category_contains_term(self, _, line):\n",
    "        # Mapper for counting the number of documents in which a term appears in a category\n",
    "        data = json.loads(line)\n",
    "        category = data.get('category', '')\n",
    "        reviewText = data.get('reviewText', '')\n",
    "        word_list = re.split('[^a-zA-Z<>^|]+', reviewText.lower())\n",
    "        word_set = set([word for word in word_list if word not in stopwords and word.strip() != '' and len(word) > 1])\n",
    "        yield None, (category, list(word_set))\n",
    "\n",
    "    def reducer_count_categories_contains_term(self, _, compromised_reviewText):\n",
    "        # Reducer for counting the number of documents in which a term appears in a category\n",
    "        compromised_reviews = list(compromised_reviewText)\n",
    "        N = len(compromised_reviews)\n",
    "        for category, reviews in compromised_reviews:\n",
    "            yield category, (reviews, N)\n",
    "\n",
    "    def mapper_term_for_categories(self, category, reviews_N):\n",
    "        # Mapper for counting the all different combinations of terms occuring in a all categories\n",
    "        reviews, N = reviews_N\n",
    "        yield (category, N), reviews\n",
    "\n",
    "       \n",
    "    def reducer_term_for_categories(self, category_N, reviews):\n",
    "        # Reducer for counting the all different combinations of terms occuring in a all categories\n",
    "        all_reviews = list(reviews)\n",
    "        yield category_N, (len(all_reviews), all_reviews)\n",
    "\n",
    "\n",
    "    def mapper_3(self, category_N, all_reviews):\n",
    "        count, reviews = all_reviews\n",
    "        N = category_N[1]\n",
    "        category = category_N[0]\n",
    "        for review in reviews:\n",
    "            for term in review:\n",
    "                yield (category, term), (1, count, N)\n",
    "\n",
    "    def reducer_3(self, category_term, counts): \n",
    "        documents = list(counts)\n",
    "        count = documents[0][1]\n",
    "        N = documents[0][2]\n",
    "        number = sum([n for n, _, _ in documents])\n",
    "        yield category_term, (number, count, N)\n",
    "\n",
    "    def mapper_4(self, category_term, number_count_N):\n",
    "        number, count, N = number_count_N\n",
    "        category, term = category_term\n",
    "        yield term, ((category, number), count, N)\n",
    "\n",
    "    def reducer_4(self, term, category_number_count_N):\n",
    "        categories = list(category_number_count_N)\n",
    "        occurence_overall = sum([number for (_, number), _, _ in categories])\n",
    "\n",
    "        yield term, (categories, occurence_overall)\n",
    "\n",
    "    def mapper_5(self, term, categories_occurences):\n",
    "        categories, occurence_overall = categories_occurences\n",
    "        for (category, number), count_category, N in categories:\n",
    "            yield (category, term), (number, occurence_overall, count_category, N)\n",
    "\n",
    "    def reducer_5(self, category_term, number_count_occurence_N):\n",
    "        number_count_occurence_N = list(number_count_occurence_N)\n",
    "        for number_count_occurence in number_count_occurence_N:\n",
    "            number, occurence, count, N = number_count_occurence\n",
    "            A = number\n",
    "            B = occurence - A\n",
    "            C = count - A\n",
    "            D = N - count - B\n",
    "            chi_squared = N * (A*D - B*C)**2 / ((A+B)*(A+C)*(B+D)*(C+D))\n",
    "            yield category_term, chi_squared\n",
    "\n",
    "    def mapper_6(self, category_term, chi_squared):\n",
    "        category, term = category_term\n",
    "        yield category, (term, chi_squared)\n",
    "        #yield None, term\n",
    "\n",
    "    def reducer_6(self, category, term_chi_squared):\n",
    "        chi_squared_terms = list(term_chi_squared)\n",
    "        chi_squared_terms.sort(key=lambda x: x[1], reverse=True)\n",
    "\n",
    "        #if category is None:\n",
    "        #    yield ', '.join(set(chi_squared_terms)), \"\"\n",
    "        #else: \n",
    "        yield category, ', '.join(f\"{x}={y}\" for x, y in chi_squared_terms[:75])\n",
    "\n",
    "\n",
    "    def steps(self):\n",
    "        return [\n",
    "            MRStep(\n",
    "                mapper   = self.mapper_category_contains_term,\n",
    "                reducer  = self.reducer_count_categories_contains_term\n",
    "            )\n",
    "            ,\n",
    "            MRStep(\n",
    "                mapper   = self.mapper_term_for_categories,\n",
    "                reducer  = self.reducer_term_for_categories\n",
    "            )\n",
    "            ,\n",
    "            MRStep(\n",
    "                mapper   = self.mapper_3,\n",
    "                reducer  = self.reducer_3\n",
    "            )\n",
    "            ,\n",
    "            MRStep(\n",
    "                mapper   = self.mapper_4,\n",
    "                reducer  = self.reducer_4\n",
    "            )\n",
    "            ,\n",
    "            MRStep(\n",
    "                mapper   = self.mapper_5,\n",
    "                reducer  = self.reducer_5\n",
    "            )\n",
    "            ,\n",
    "            MRStep(\n",
    "                mapper   = self.mapper_6,\n",
    "                reducer  = self.reducer_6\n",
    "            )\n",
    "        ]\n",
    "   \n",
    "if __name__ == '__main__':\n",
    "    with open('./data/stopwords.txt', 'r') as f:\n",
    "        stopwords = set(f.read().splitlines())\n",
    "\n",
    "\n",
    "    myjob1 = ChiSquaredProcessor()\n",
    "    with myjob1.make_runner() as runner:\n",
    "        runner.run()\n",
    "        \n",
    "        for key, value in myjob1.parse_output(runner.cat_output()):           \n",
    "            print(key, value, \"\\n\", end='')\n"
   ]
  },
  {
   "cell_type": "markdown",
   "metadata": {},
   "source": [
    "Running a local MRjob "
   ]
  },
  {
   "cell_type": "code",
   "execution_count": 67,
   "metadata": {},
   "outputs": [
    {
     "name": "stdout",
     "output_type": "stream",
     "text": [
      "No configs specified for inline runner\n"
     ]
    }
   ],
   "source": [
    "! $PYTHON ./chiSquaredReduce.py $DATA_PATH > ./result/output.txt"
   ]
  },
  {
   "cell_type": "code",
   "execution_count": null,
   "metadata": {},
   "outputs": [],
   "source": []
  }
 ],
 "metadata": {
  "kernelspec": {
   "display_name": "Python 3",
   "language": "python",
   "name": "python3"
  },
  "language_info": {
   "codemirror_mode": {
    "name": "ipython",
    "version": 3
   },
   "file_extension": ".py",
   "mimetype": "text/x-python",
   "name": "python",
   "nbconvert_exporter": "python",
   "pygments_lexer": "ipython3",
   "version": "3.10.9"
  }
 },
 "nbformat": 4,
 "nbformat_minor": 2
}
